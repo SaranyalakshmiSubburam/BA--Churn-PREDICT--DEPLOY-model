{
  "nbformat": 4,
  "nbformat_minor": 0,
  "metadata": {
    "colab": {
      "provenance": []
    },
    "kernelspec": {
      "name": "python3",
      "display_name": "Python 3"
    },
    "language_info": {
      "name": "python"
    }
  },
  "cells": [
    {
      "cell_type": "code",
      "execution_count": 1,
      "metadata": {
        "id": "KdJvp34aSTlj"
      },
      "outputs": [],
      "source": [
        "import pickle\n",
        "import pandas as pd\n",
        "import numpy as np\n",
        "from sklearn.model_selection import train_test_split\n",
        "from sklearn.model_selection import KFold\n",
        "from sklearn.feature_extraction import DictVectorizer\n",
        "from sklearn.ensemble import RandomForestClassifier\n",
        "from sklearn.metrics import roc_auc_score\n",
        "from imblearn.combine import SMOTEENN"
      ]
    },
    {
      "cell_type": "code",
      "source": [
        "# Set parameters\n",
        "n_splits = 5\n",
        "output_file = f'model_rf={n_splits}.bin'"
      ],
      "metadata": {
        "id": "oNr64wkzTVmT"
      },
      "execution_count": 2,
      "outputs": []
    },
    {
      "cell_type": "code",
      "source": [
        "# Data preparation\n",
        "df = pd.read_csv('/content/WA_Fn-UseC_-Telco-Customer-Churn.csv')\n",
        "df.columns = df.columns.str.lower().str.replace(' ', '_')\n"
      ],
      "metadata": {
        "id": "NckfQSmrTiy0"
      },
      "execution_count": 3,
      "outputs": []
    },
    {
      "cell_type": "code",
      "source": [
        "categorical_columns = list(df.dtypes[df.dtypes == 'object'].index)\n",
        "for c in categorical_columns:\n",
        "    df[c] = df[c].str.lower().str.replace(' ', '_')"
      ],
      "metadata": {
        "id": "5XmM4irQUS6E"
      },
      "execution_count": 4,
      "outputs": []
    },
    {
      "cell_type": "code",
      "source": [
        "df.totalcharges = pd.to_numeric(df.totalcharges, errors='coerce')\n",
        "df.totalcharges = df.totalcharges.fillna(0)\n",
        "df.churn = (df.churn == 'yes').astype(int)\n"
      ],
      "metadata": {
        "id": "i9VLORYEUVRn"
      },
      "execution_count": 5,
      "outputs": []
    },
    {
      "cell_type": "code",
      "source": [
        "df_full_train, df_test = train_test_split(df, test_size=0.2, random_state=1)\n",
        "\n",
        "numerical = ['tenure', 'monthlycharges', 'totalcharges']\n",
        "\n",
        "categorical = [\n",
        "    'gender', 'seniorcitizen', 'partner', 'dependents', 'phoneservice',\n",
        "    'multiplelines', 'internetservice', 'onlinesecurity', 'onlinebackup',\n",
        "    'deviceprotection', 'techsupport', 'streamingtv', 'streamingmovies',\n",
        "    'contract', 'paperlessbilling', 'paymentmethod'\n",
        "]\n"
      ],
      "metadata": {
        "id": "R9yP4Vh8UXjj"
      },
      "execution_count": 6,
      "outputs": []
    },
    {
      "cell_type": "code",
      "source": [
        "def train_rf(df_train, y_train):\n",
        "    dicts = df_train[categorical + numerical].to_dict(orient='records')\n",
        "\n",
        "    dv = DictVectorizer(sparse=False)\n",
        "    X_train = dv.fit_transform(dicts)\n",
        "\n",
        "    # Apply SMOTEENN to balance the data\n",
        "    smote_enn = SMOTEENN(random_state=1)\n",
        "    X_train_resampled, y_train_resampled = smote_enn.fit_resample(X_train, y_train)\n",
        "\n",
        "    # Train the Random Forest classifier\n",
        "    model = RandomForestClassifier(n_estimators=100, random_state=1)\n",
        "    model.fit(X_train_resampled, y_train_resampled)\n",
        "\n",
        "    return dv, model"
      ],
      "metadata": {
        "id": "rVEcMjw2Ua7g"
      },
      "execution_count": 23,
      "outputs": []
    },
    {
      "cell_type": "code",
      "source": [
        "print('Doing validation with Random Forest')"
      ],
      "metadata": {
        "colab": {
          "base_uri": "https://localhost:8080/"
        },
        "id": "zdwN7s77UgeB",
        "outputId": "721d3f88-cc66-458e-ce8a-ee1c936ba5c6"
      },
      "execution_count": 24,
      "outputs": [
        {
          "output_type": "stream",
          "name": "stdout",
          "text": [
            "Doing validation with Random Forest\n"
          ]
        }
      ]
    },
    {
      "cell_type": "code",
      "source": [
        "\n",
        "kfold = KFold(n_splits=n_splits, shuffle=True, random_state=1)\n",
        "scores = []\n",
        "fold = 0\n",
        "\n",
        "for train_idx, val_idx in kfold.split(df_full_train):\n",
        "    df_train = df_full_train.iloc[train_idx]\n",
        "    df_val = df_full_train.iloc[val_idx]\n",
        "\n",
        "    y_train = df_train.churn.values\n",
        "    y_val = df_val.churn.values\n",
        "\n",
        "    dv, model = train_rf(df_train, y_train)\n",
        "    dicts_val = df_val[categorical + numerical].to_dict(orient='records')\n",
        "    X_val = dv.transform(dicts_val)\n",
        "    y_pred = model.predict_proba(X_val)[:, 1]\n",
        "\n",
        "    auc = roc_auc_score(y_val, y_pred)\n",
        "    scores.append(auc)\n",
        "\n",
        "    print(f'AUC on fold {fold} is {auc}')\n",
        "    fold += 1"
      ],
      "metadata": {
        "colab": {
          "base_uri": "https://localhost:8080/"
        },
        "id": "04GuqaGvXjE4",
        "outputId": "946cadb8-0129-4988-af5a-745b712834f4"
      },
      "execution_count": 25,
      "outputs": [
        {
          "output_type": "stream",
          "name": "stdout",
          "text": [
            "AUC on fold 0 is 0.8331966151454968\n",
            "AUC on fold 1 is 0.8434499569593432\n",
            "AUC on fold 2 is 0.8212261689745134\n",
            "AUC on fold 3 is 0.8159373601074376\n",
            "AUC on fold 4 is 0.8378482789997176\n"
          ]
        }
      ]
    },
    {
      "cell_type": "code",
      "source": [
        "print('Validation results:')\n",
        "print(f'AUC: {np.mean(scores):.3f} ± {np.std(scores):.3f}')"
      ],
      "metadata": {
        "colab": {
          "base_uri": "https://localhost:8080/"
        },
        "id": "cF89uqH2Xm3z",
        "outputId": "d52cd353-8343-4096-d75e-9355b6e5e2ec"
      },
      "execution_count": 26,
      "outputs": [
        {
          "output_type": "stream",
          "name": "stdout",
          "text": [
            "Validation results:\n",
            "AUC: 0.830 ± 0.010\n"
          ]
        }
      ]
    },
    {
      "cell_type": "code",
      "source": [
        "# Training the final Random Forest model\n",
        "print('Training the final Random Forest model')"
      ],
      "metadata": {
        "colab": {
          "base_uri": "https://localhost:8080/"
        },
        "id": "RbbT2fxdXtvg",
        "outputId": "e7e81651-f0b7-4233-95e3-ae4cbcdcacfd"
      },
      "execution_count": 27,
      "outputs": [
        {
          "output_type": "stream",
          "name": "stdout",
          "text": [
            "Training the final Random Forest model\n"
          ]
        }
      ]
    },
    {
      "cell_type": "code",
      "source": [
        "dv, model = train_rf(df_full_train, df_full_train.churn.values)\n",
        "dicts_test = df_test[categorical + numerical].to_dict(orient='records')\n",
        "X_test = dv.transform(dicts_test)\n",
        "y_pred_test = model.predict_proba(X_test)[:, 1]\n",
        "\n",
        "y_test = df_test.churn.values\n",
        "auc_test = roc_auc_score(y_test, y_pred_test)\n",
        "\n",
        "print(f'AUC on test set: {auc_test:.3f}')"
      ],
      "metadata": {
        "colab": {
          "base_uri": "https://localhost:8080/"
        },
        "id": "NRNAJ1suXxNE",
        "outputId": "ef704c36-ac61-4d8c-8d15-db8a1e436d3f"
      },
      "execution_count": 28,
      "outputs": [
        {
          "output_type": "stream",
          "name": "stdout",
          "text": [
            "AUC on test set: 0.837\n"
          ]
        }
      ]
    },
    {
      "cell_type": "code",
      "source": [
        "# Save the Random Forest model\n",
        "with open(output_file, 'wb') as f_out:\n",
        "    pickle.dump((dv, model), f_out)\n",
        "\n",
        "print(f'The Random Forest model is saved to {output_file}')"
      ],
      "metadata": {
        "colab": {
          "base_uri": "https://localhost:8080/"
        },
        "id": "vhH4fXYkX4xR",
        "outputId": "78a45340-fd6c-40c5-c09b-ccf86c08c5df"
      },
      "execution_count": 29,
      "outputs": [
        {
          "output_type": "stream",
          "name": "stdout",
          "text": [
            "The Random Forest model is saved to model_rf.bin\n"
          ]
        }
      ]
    },
    {
      "cell_type": "code",
      "source": [],
      "metadata": {
        "id": "9FobcW_sX9Vd"
      },
      "execution_count": null,
      "outputs": []
    }
  ]
}